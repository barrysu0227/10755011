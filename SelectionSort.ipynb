{
  "nbformat": 4,
  "nbformat_minor": 0,
  "metadata": {
    "colab": {
      "name": "BubbleSort.ipynb",
      "provenance": [],
      "authorship_tag": "ABX9TyNpYdm41nMbyY+PX2Qj08Sp",
      "include_colab_link": true
    },
    "kernelspec": {
      "name": "python3",
      "display_name": "Python 3"
    }
  },
  "cells": [
    {
      "cell_type": "markdown",
      "metadata": {
        "id": "view-in-github",
        "colab_type": "text"
      },
      "source": [
        "<a href=\"https://colab.research.google.com/github/barrysu0227/10755011/blob/master/SelectionSort.ipynb\" target=\"_parent\"><img src=\"https://colab.research.google.com/assets/colab-badge.svg\" alt=\"Open In Colab\"/></a>"
      ]
    },
    {
      "cell_type": "code",
      "metadata": {
        "id": "0vnh2hwl9JZw",
        "outputId": "8a53cdd4-2269-416c-85b5-a088dcfbfd5d",
        "colab": {
          "base_uri": "https://localhost:8080/",
          "height": 364
        }
      },
      "source": [
        "def Selction_Sort(datas):\n",
        "    for i in range(len(datas)-1):\n",
        "        min = i # 第一次選從第一個數開始,第二次從第二個數開始\n",
        "        for j in range(i+1, len(datas)):    # 用記錄的max數與其他的比較\n",
        "            if datas[j] < datas[min]:\n",
        "                min = j\n",
        "\n",
        "        datas[i], datas[min] = datas[min], datas[i]\n",
        "\n",
        "        print(datas)\n",
        "        print('---'*10)\n",
        "    return datas\n",
        "\n",
        "\n",
        "if __name__ == '__main__':\n",
        "    import random\n",
        "    a = list(range(10))\n",
        "    random.shuffle(a)\n",
        "    print(a)\n",
        "    a = Selction_Sort(a)\n",
        "    print(a)"
      ],
      "execution_count": 2,
      "outputs": [
        {
          "output_type": "stream",
          "text": [
            "[4, 7, 6, 0, 2, 3, 1, 8, 5, 9]\n",
            "[0, 7, 6, 4, 2, 3, 1, 8, 5, 9]\n",
            "------------------------------\n",
            "[0, 1, 6, 4, 2, 3, 7, 8, 5, 9]\n",
            "------------------------------\n",
            "[0, 1, 2, 4, 6, 3, 7, 8, 5, 9]\n",
            "------------------------------\n",
            "[0, 1, 2, 3, 6, 4, 7, 8, 5, 9]\n",
            "------------------------------\n",
            "[0, 1, 2, 3, 4, 6, 7, 8, 5, 9]\n",
            "------------------------------\n",
            "[0, 1, 2, 3, 4, 5, 7, 8, 6, 9]\n",
            "------------------------------\n",
            "[0, 1, 2, 3, 4, 5, 6, 8, 7, 9]\n",
            "------------------------------\n",
            "[0, 1, 2, 3, 4, 5, 6, 7, 8, 9]\n",
            "------------------------------\n",
            "[0, 1, 2, 3, 4, 5, 6, 7, 8, 9]\n",
            "------------------------------\n",
            "[0, 1, 2, 3, 4, 5, 6, 7, 8, 9]\n"
          ],
          "name": "stdout"
        }
      ]
    }
  ]
}